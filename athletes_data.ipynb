{
 "cells": [
  {
   "cell_type": "code",
   "execution_count": null,
   "metadata": {},
   "outputs": [],
   "source": [
    "import pandas as pd\n",
    "import numpy as np\n",
    "import matplotlib.pyplot as plt\n",
    "import seaborn as sns\n",
    "\n",
    "athletes_df = pd.read_csv('C:\\\\Users\\\\yanap\\\\Documents\\\\5. Code Project Files\\\\python\\\\Data Exploration\\\\paria olympics 2024 dataset updated\\\\athletes.csv')\n",
    "\n",
    "\n",
    "numerical_cols = ['height', 'weight']  \n",
    "\n",
    "\n",
    "central_tendency = athletes_df[numerical_cols].describe()\n",
    "\n",
    "print(\"Central Tendency and Spread:\")\n",
    "print(central_tendency)\n",
    "\n",
    "\n",
    "mode_country = athletes_df['country'].mode()[0]\n",
    "\n",
    "print(\"\\nMode:\")\n",
    "print(f\"Most common country: {mode_country}\")\n",
    "\n",
    "\n",
    "percentiles = athletes_df[numerical_cols].quantile([0.25, 0.5, 0.75])\n",
    "\n",
    "print(\"\\nPercentiles:\")\n",
    "print(percentiles)\n",
    "\n",
    "\n",
    "country_counts = athletes_df['country'].value_counts()\n",
    "plt.figure(figsize=(10, 6))\n",
    "sns.barplot(x=country_counts.index, y=country_counts.values)\n",
    "plt.title(\"Number of Athletes per Country\")\n",
    "plt.xlabel(\"Country\")\n",
    "plt.ylabel(\"Number of Athletes\")\n",
    "plt.show()"
   ]
  }
 ],
 "metadata": {
  "language_info": {
   "name": "python"
  }
 },
 "nbformat": 4,
 "nbformat_minor": 2
}
