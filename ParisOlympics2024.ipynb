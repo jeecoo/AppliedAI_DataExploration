{
 "cells": [
  {
   "cell_type": "code",
   "execution_count": 1,
   "metadata": {},
   "outputs": [
    {
     "name": "stdout",
     "output_type": "stream",
     "text": [
      "All libraries are successfully imported!\n"
     ]
    }
   ],
   "source": [
    "import pandas as pd\n",
    "import numpy as np\n",
    "from scipy import stats\n",
    "import matplotlib.pyplot as plt\n",
    "import seaborn as sns\n",
    "\n",
    "print(\"All libraries are successfully imported!\")"
   ]
  },
  {
   "cell_type": "code",
   "execution_count": 3,
   "metadata": {},
   "outputs": [
    {
     "name": "stdout",
     "output_type": "stream",
     "text": [
      "<class 'pandas.core.frame.DataFrame'>\n",
      "RangeIndex: 3294 entries, 0 to 3293\n",
      "Data columns (total 24 columns):\n",
      " #   Column                    Non-Null Count  Dtype  \n",
      "---  ------                    --------------  -----  \n",
      " 0   date                      3294 non-null   object \n",
      " 1   stage_code                3294 non-null   object \n",
      " 2   event_code                3294 non-null   object \n",
      " 3   event_name                3294 non-null   object \n",
      " 4   event_stage               3294 non-null   object \n",
      " 5   stage                     3294 non-null   object \n",
      " 6   stage_status              3294 non-null   object \n",
      " 7   gender                    3294 non-null   object \n",
      " 8   discipline_name           3294 non-null   object \n",
      " 9   discipline_code           3294 non-null   object \n",
      " 10  venue                     3294 non-null   object \n",
      " 11  participant_code          3294 non-null   object \n",
      " 12  participant_name          3294 non-null   object \n",
      " 13  participant_type          3294 non-null   object \n",
      " 14  participant_country_code  3294 non-null   object \n",
      " 15  participant_country       3294 non-null   object \n",
      " 16  rank                      3157 non-null   float64\n",
      " 17  result                    3157 non-null   object \n",
      " 18  result_type               3294 non-null   object \n",
      " 19  result_IRM                137 non-null    object \n",
      " 20  result_diff               258 non-null    object \n",
      " 21  qualification_mark        1016 non-null   object \n",
      " 22  start_order               3294 non-null   int64  \n",
      " 23  bib                       3148 non-null   float64\n",
      "dtypes: float64(2), int64(1), object(21)\n",
      "memory usage: 617.8+ KB\n"
     ]
    },
    {
     "data": {
      "text/plain": [
       "date                           0\n",
       "stage_code                     0\n",
       "event_code                     0\n",
       "event_name                     0\n",
       "event_stage                    0\n",
       "stage                          0\n",
       "stage_status                   0\n",
       "gender                         0\n",
       "discipline_name                0\n",
       "discipline_code                0\n",
       "venue                          0\n",
       "participant_code               0\n",
       "participant_name               0\n",
       "participant_type               0\n",
       "participant_country_code       0\n",
       "participant_country            0\n",
       "rank                         137\n",
       "result                       137\n",
       "result_type                    0\n",
       "result_IRM                  3157\n",
       "result_diff                 3036\n",
       "qualification_mark          2278\n",
       "start_order                    0\n",
       "bib                          146\n",
       "dtype: int64"
      ]
     },
     "execution_count": 3,
     "metadata": {},
     "output_type": "execute_result"
    }
   ],
   "source": [
    "#Load the dataset\n",
    "\n",
    "df = pd.read_csv('paris_olympics2024./paris olympics 2024 dataset updated/results/Athletics.csv')\n",
    "# Display the first few rows\n",
    "df.head()\n",
    "# Check the basic info of the dataset\n",
    "df.info()\n",
    "\n",
    "# Get summary statistics for numerical columns\n",
    "df.describe()\n",
    "\n",
    "# Check for missing values\n",
    "df.isnull().sum()"
   ]
  },
  {
   "cell_type": "markdown",
   "metadata": {},
   "source": [
    "### **DESCRIPTIVE STATISTICS**\n"
   ]
  },
  {
   "cell_type": "code",
   "execution_count": null,
   "metadata": {},
   "outputs": [],
   "source": [
    "#Mean\n",
    "mean_value = df[''].mean()\n",
    "print(f\"Mean: {mean_value}\")"
   ]
  }
 ],
 "metadata": {
  "kernelspec": {
   "display_name": "Python 3",
   "language": "python",
   "name": "python3"
  },
  "language_info": {
   "codemirror_mode": {
    "name": "ipython",
    "version": 3
   },
   "file_extension": ".py",
   "mimetype": "text/x-python",
   "name": "python",
   "nbconvert_exporter": "python",
   "pygments_lexer": "ipython3",
   "version": "3.12.5"
  }
 },
 "nbformat": 4,
 "nbformat_minor": 2
}
